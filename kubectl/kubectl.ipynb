{
 "cells": [
  {
   "cell_type": "markdown",
   "id": "7421159f",
   "metadata": {},
   "source": [
    "# Get Service Load Balancer external IP"
   ]
  },
  {
   "cell_type": "code",
   "execution_count": 2,
   "id": "b2749891",
   "metadata": {},
   "outputs": [
    {
     "name": "stdout",
     "output_type": "stream",
     "text": [
      "NAME           TYPE           CLUSTER-IP    EXTERNAL-IP    PORT(S)          AGE\n",
      "diabetes-api   LoadBalancer   10.24.4.133   34.135.37.91   8080:30805/TCP   8m36s\n",
      "kubernetes     ClusterIP      10.24.0.1     <none>         443/TCP          15m\n"
     ]
    }
   ],
   "source": [
    "kubectl get services"
   ]
  },
  {
   "cell_type": "code",
   "execution_count": 1,
   "id": "9b5a48f2",
   "metadata": {},
   "outputs": [
    {
     "name": "stdout",
     "output_type": "stream",
     "text": [
      "34.135.37.91"
     ]
    }
   ],
   "source": [
    "kubectl get services diabetes-api -o=jsonpath='{.status.loadBalancer.ingress[0].ip}'"
   ]
  },
  {
   "cell_type": "code",
   "execution_count": null,
   "id": "95afffb4",
   "metadata": {},
   "outputs": [],
   "source": []
  }
 ],
 "metadata": {
  "kernelspec": {
   "display_name": "Bash",
   "language": "bash",
   "name": "bash"
  },
  "language_info": {
   "codemirror_mode": "shell",
   "file_extension": ".sh",
   "mimetype": "text/x-sh",
   "name": "bash"
  }
 },
 "nbformat": 4,
 "nbformat_minor": 5
}
